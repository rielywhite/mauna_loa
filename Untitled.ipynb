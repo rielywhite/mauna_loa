{
 "cells": [
  {
   "cell_type": "code",
   "execution_count": 7,
   "id": "comparative-transition",
   "metadata": {},
   "outputs": [
    {
     "name": "stdout",
     "output_type": "stream",
     "text": [
      "hello\n"
     ]
    }
   ],
   "source": [
    "#Here you should call functions in ml.py\n",
    "filename='mauna_loa.csv'\n",
    "import ml\n",
    "df=ml.get_df(filename)\n",
    "ml.plot_df(df)"
   ]
  },
  {
   "cell_type": "code",
   "execution_count": null,
   "id": "continued-longitude",
   "metadata": {},
   "outputs": [],
   "source": []
  },
  {
   "cell_type": "code",
   "execution_count": 8,
   "id": "remarkable-baker",
   "metadata": {},
   "outputs": [
    {
     "data": {
      "text/plain": [
       "<module 'ml' from '/home/whiteri/hw/hw07/mauna_loa/ml.py'>"
      ]
     },
     "execution_count": 8,
     "metadata": {},
     "output_type": "execute_result"
    }
   ],
   "source": [
    "#if you change the content of ml.py, you may need to reload it into Python workspace\n",
    "\n",
    "import importlib\n",
    "importlib.reload(ml)"
   ]
  },
  {
   "cell_type": "code",
   "execution_count": null,
   "id": "antique-screening",
   "metadata": {},
   "outputs": [],
   "source": []
  }
 ],
 "metadata": {
  "kernelspec": {
   "display_name": "Python 3",
   "language": "python",
   "name": "python3"
  },
  "language_info": {
   "codemirror_mode": {
    "name": "ipython",
    "version": 3
   },
   "file_extension": ".py",
   "mimetype": "text/x-python",
   "name": "python",
   "nbconvert_exporter": "python",
   "pygments_lexer": "ipython3",
   "version": "3.7.9"
  }
 },
 "nbformat": 4,
 "nbformat_minor": 5
}
